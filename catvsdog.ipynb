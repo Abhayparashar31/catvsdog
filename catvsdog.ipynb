{
 "cells": [
  {
   "cell_type": "markdown",
   "metadata": {
    "colab_type": "text",
    "id": "pF9Ns90Ysd2k"
   },
   "source": [
    "In the below notebook we are trying to classify the image of dogs and cats. In below we are trying to find whether a image contains a picture of dog or a cat.\n",
    "To classify this we are going to use CNN and tesorflow.\n",
    "\n",
    "  * Tensorflow: 2<\n",
    "  * Python :3<\n",
    "\n",
    "    **Steps:**\n",
    "      * \n",
    "    \n",
    "    \n",
    "\n",
    "\n"
   ]
  },
  {
   "cell_type": "markdown",
   "metadata": {
    "colab_type": "text",
    "id": "j3dOyAIxSx81"
   },
   "source": [
    "## Importing Libraries"
   ]
  },
  {
   "cell_type": "code",
   "execution_count": 1,
   "metadata": {
    "colab": {},
    "colab_type": "code",
    "id": "QZUFrBdNuCxs"
   },
   "outputs": [
    {
     "name": "stderr",
     "output_type": "stream",
     "text": [
      "Using TensorFlow backend.\n"
     ]
    }
   ],
   "source": [
    "import tensorflow as tf\n",
    "from keras.preprocessing.image import ImageDataGenerator"
   ]
  },
  {
   "cell_type": "code",
   "execution_count": 2,
   "metadata": {
    "colab": {
     "base_uri": "https://localhost:8080/",
     "height": 35
    },
    "colab_type": "code",
    "id": "jv205cS0UG3Z",
    "outputId": "b4645255-de63-4248-901d-4b5f6210ca60"
   },
   "outputs": [
    {
     "data": {
      "text/plain": [
       "'2.1.0'"
      ]
     },
     "execution_count": 2,
     "metadata": {},
     "output_type": "execute_result"
    }
   ],
   "source": [
    "tf.__version__"
   ]
  },
  {
   "cell_type": "markdown",
   "metadata": {
    "colab_type": "text",
    "id": "JKPzP3lRUBHr"
   },
   "source": [
    "## Data Preprocessing"
   ]
  },
  {
   "cell_type": "markdown",
   "metadata": {
    "colab_type": "text",
    "id": "ra-AXPHNUTzg"
   },
   "source": [
    "### Preprocessing the training set"
   ]
  },
  {
   "cell_type": "code",
   "execution_count": 3,
   "metadata": {
    "colab": {
     "base_uri": "https://localhost:8080/",
     "height": 34
    },
    "colab_type": "code",
    "id": "I_9bwA4nuDU3",
    "outputId": "634d7020-895b-4a66-97f2-83517f1557e0"
   },
   "outputs": [
    {
     "name": "stdout",
     "output_type": "stream",
     "text": [
      "Found 8000 images belonging to 2 classes.\n"
     ]
    }
   ],
   "source": [
    "train_datagen = ImageDataGenerator(\n",
    "        rescale=1./255,     ## Feature scalling\n",
    "        shear_range=0.2,    ## Creating Modified versions of image\n",
    "        zoom_range=0.2,     ## Zooming image \n",
    "        horizontal_flip=True) ## Rotating image\n",
    "training_set = train_datagen.flow_from_directory(\n",
    "        'dataset/training_set',  ##Path leading to the training set\n",
    "        target_size=(64, 64),  ## final size of the images when they fed into cnn \n",
    "        batch_size=32,  ## Size of the batches\n",
    "        class_mode='binary')  ## Binary of categorical"
   ]
  },
  {
   "cell_type": "markdown",
   "metadata": {
    "colab_type": "text",
    "id": "RwZrGYNFXltE"
   },
   "source": [
    "### Preprocessing the test set"
   ]
  },
  {
   "cell_type": "code",
   "execution_count": 4,
   "metadata": {
    "colab": {
     "base_uri": "https://localhost:8080/",
     "height": 34
    },
    "colab_type": "code",
    "id": "DeflIqcdXpQj",
    "outputId": "91bde7f4-4f4f-4595-ce32-33e9b91a9ba0"
   },
   "outputs": [
    {
     "name": "stdout",
     "output_type": "stream",
     "text": [
      "Found 2000 images belonging to 2 classes.\n"
     ]
    }
   ],
   "source": [
    "test_datagen = ImageDataGenerator(rescale=1./255)  ## Scalling the pixels\n",
    "test_set = test_datagen.flow_from_directory(\n",
    "        'dataset/test_set',  ## Path leads to test set\n",
    "        target_size=(64, 64),  ## Final size of the image it will be same as the training images\n",
    "        batch_size=32,           ## Same with the training images\n",
    "        class_mode='binary')     ## Same with the training images"
   ]
  },
  {
   "cell_type": "markdown",
   "metadata": {
    "colab_type": "text",
    "id": "a_D3dmWuZRV3"
   },
   "source": [
    "# Building The CNN"
   ]
  },
  {
   "cell_type": "code",
   "execution_count": 5,
   "metadata": {
    "colab": {},
    "colab_type": "code",
    "id": "MNKzUZU1lubK"
   },
   "outputs": [],
   "source": [
    "# create an object of sequential class\n",
    "cnn = tf.keras.models.Sequential()"
   ]
  },
  {
   "cell_type": "markdown",
   "metadata": {
    "colab_type": "text",
    "id": "g1DZsdzoZVl_"
   },
   "source": [
    "## Step 1 : Convolution"
   ]
  },
  {
   "cell_type": "code",
   "execution_count": 6,
   "metadata": {
    "colab": {},
    "colab_type": "code",
    "id": "Aak5ovz2aPjC"
   },
   "outputs": [],
   "source": [
    "cnn.add(tf.keras.layers.Conv2D(filters=32,kernel_size=3,activation=\"relu\",input_shape=[64,64,3]))\n",
    "###filters - no. of filters , kernal_size = feature detector/matrix size(3x3) , activation = relu(rectifier), input_shape = size of images as above"
   ]
  },
  {
   "cell_type": "markdown",
   "metadata": {
    "colab_type": "text",
    "id": "aVjobPDkZbBB"
   },
   "source": [
    "## Step 2 : Pooling"
   ]
  },
  {
   "cell_type": "code",
   "execution_count": 7,
   "metadata": {
    "colab": {},
    "colab_type": "code",
    "id": "mjhydVeenZxF"
   },
   "outputs": [],
   "source": [
    "cnn.add(tf.keras.layers.MaxPool2D(pool_size=(2,2),\n",
    "                                  strides=2))\n",
    "## pool_size : size of square (2x2)\n",
    "## strides : no of pixels the square shift\n",
    "## padding : at the end of cell "
   ]
  },
  {
   "cell_type": "markdown",
   "metadata": {
    "colab_type": "text",
    "id": "WLYBPdgZZiiP"
   },
   "source": [
    "## Adding a second convolution layer"
   ]
  },
  {
   "cell_type": "code",
   "execution_count": 8,
   "metadata": {
    "colab": {},
    "colab_type": "code",
    "id": "wbj73KKtof6M"
   },
   "outputs": [],
   "source": [
    "cnn.add(tf.keras.layers.Conv2D(filters=32,kernel_size=3,activation=\"relu\"))\n",
    "cnn.add(tf.keras.layers.MaxPool2D(pool_size=(2,2),\n",
    "                                  strides=2))"
   ]
  },
  {
   "cell_type": "markdown",
   "metadata": {
    "colab_type": "text",
    "id": "tHO4NOHsZi96"
   },
   "source": [
    "## Step 3 : Flattening"
   ]
  },
  {
   "cell_type": "code",
   "execution_count": 9,
   "metadata": {
    "colab": {},
    "colab_type": "code",
    "id": "UpnrmKqpopW7"
   },
   "outputs": [],
   "source": [
    "cnn.add(tf.keras.layers.Flatten())"
   ]
  },
  {
   "cell_type": "markdown",
   "metadata": {
    "colab_type": "text",
    "id": "sspDyF8jZiOh"
   },
   "source": [
    "## Step 4 : Full Connection"
   ]
  },
  {
   "cell_type": "code",
   "execution_count": 10,
   "metadata": {
    "colab": {},
    "colab_type": "code",
    "id": "BtD4A9vLo9Xp"
   },
   "outputs": [],
   "source": [
    "cnn.add(tf.keras.layers.Dense(units=128,activation=\"relu\"))\n",
    "##       units : no of hidden neurons"
   ]
  },
  {
   "cell_type": "markdown",
   "metadata": {
    "colab_type": "text",
    "id": "-9dtbb-mZ-0i"
   },
   "source": [
    "## Output Layer"
   ]
  },
  {
   "cell_type": "code",
   "execution_count": 11,
   "metadata": {
    "colab": {},
    "colab_type": "code",
    "id": "POpgVTXdpfOi"
   },
   "outputs": [],
   "source": [
    "cnn.add(tf.keras.layers.Dense(units=1,activation=\"sigmoid\"))\n",
    "## sigmoid - binary classification    softmax : multiclass classification"
   ]
  },
  {
   "cell_type": "markdown",
   "metadata": {
    "colab_type": "text",
    "id": "OheLWITdZ_dI"
   },
   "source": [
    "# Training the cnn"
   ]
  },
  {
   "cell_type": "markdown",
   "metadata": {
    "colab_type": "text",
    "id": "h9khqDspZ_zZ"
   },
   "source": [
    "## Compiling the cnn"
   ]
  },
  {
   "cell_type": "code",
   "execution_count": 12,
   "metadata": {
    "colab": {},
    "colab_type": "code",
    "id": "Jg2Vw3lsYjSS"
   },
   "outputs": [],
   "source": [
    "cnn.compile(optimizer='adam', loss='binary_crossentropy', metrics= ['accuracy'])\n"
   ]
  },
  {
   "cell_type": "markdown",
   "metadata": {
    "colab_type": "text",
    "id": "quELH9SSqFbg"
   },
   "source": [
    "## Training the CNN on the Training set and evaluation it on the test set"
   ]
  },
  {
   "cell_type": "code",
   "execution_count": 13,
   "metadata": {
    "colab": {
     "base_uri": "https://localhost:8080/",
     "height": 874
    },
    "colab_type": "code",
    "id": "y5qeOcqAqMJU",
    "outputId": "7f55efcc-16fc-4c77-e486-786e1a90d7a3"
   },
   "outputs": [
    {
     "name": "stdout",
     "output_type": "stream",
     "text": [
      "WARNING:tensorflow:sample_weight modes were coerced from\n",
      "  ...\n",
      "    to  \n",
      "  ['...']\n",
      "WARNING:tensorflow:sample_weight modes were coerced from\n",
      "  ...\n",
      "    to  \n",
      "  ['...']\n",
      "Train for 250 steps, validate for 63 steps\n",
      "Epoch 1/25\n",
      "250/250 [==============================] - 100s 398ms/step - loss: 0.6744 - accuracy: 0.5859 - val_loss: 0.6277 - val_accuracy: 0.6615\n",
      "Epoch 2/25\n",
      "250/250 [==============================] - 43s 173ms/step - loss: 0.6258 - accuracy: 0.6486 - val_loss: 0.5907 - val_accuracy: 0.6925\n",
      "Epoch 3/25\n",
      "250/250 [==============================] - 41s 162ms/step - loss: 0.5836 - accuracy: 0.6896 - val_loss: 0.5334 - val_accuracy: 0.7400\n",
      "Epoch 4/25\n",
      "250/250 [==============================] - 40s 162ms/step - loss: 0.5352 - accuracy: 0.7289 - val_loss: 0.5339 - val_accuracy: 0.7515\n",
      "Epoch 5/25\n",
      "250/250 [==============================] - 41s 163ms/step - loss: 0.5065 - accuracy: 0.7494 - val_loss: 0.5041 - val_accuracy: 0.7635\n",
      "Epoch 6/25\n",
      "250/250 [==============================] - 41s 162ms/step - loss: 0.4939 - accuracy: 0.7595 - val_loss: 0.6351 - val_accuracy: 0.6850\n",
      "Epoch 7/25\n",
      "250/250 [==============================] - 40s 161ms/step - loss: 0.4731 - accuracy: 0.7714 - val_loss: 0.4802 - val_accuracy: 0.7750\n",
      "Epoch 8/25\n",
      "250/250 [==============================] - 41s 163ms/step - loss: 0.4584 - accuracy: 0.7832 - val_loss: 0.4927 - val_accuracy: 0.7835\n",
      "Epoch 9/25\n",
      "250/250 [==============================] - 41s 165ms/step - loss: 0.4445 - accuracy: 0.7862 - val_loss: 0.4820 - val_accuracy: 0.7820\n",
      "Epoch 10/25\n",
      "250/250 [==============================] - 41s 165ms/step - loss: 0.4257 - accuracy: 0.8043 - val_loss: 0.4703 - val_accuracy: 0.7825\n",
      "Epoch 11/25\n",
      "250/250 [==============================] - 41s 165ms/step - loss: 0.4206 - accuracy: 0.8067 - val_loss: 0.4844 - val_accuracy: 0.7915\n",
      "Epoch 12/25\n",
      "250/250 [==============================] - 41s 164ms/step - loss: 0.4041 - accuracy: 0.8154 - val_loss: 0.4677 - val_accuracy: 0.7955\n",
      "Epoch 13/25\n",
      "250/250 [==============================] - 44s 175ms/step - loss: 0.3916 - accuracy: 0.8206 - val_loss: 0.4560 - val_accuracy: 0.7950\n",
      "Epoch 14/25\n",
      "250/250 [==============================] - 44s 177ms/step - loss: 0.3686 - accuracy: 0.8317 - val_loss: 0.4614 - val_accuracy: 0.8015\n",
      "Epoch 15/25\n",
      "250/250 [==============================] - 44s 177ms/step - loss: 0.3637 - accuracy: 0.8372 - val_loss: 0.5513 - val_accuracy: 0.7650\n",
      "Epoch 16/25\n",
      "250/250 [==============================] - 43s 173ms/step - loss: 0.3551 - accuracy: 0.8447 - val_loss: 0.5215 - val_accuracy: 0.7855\n",
      "Epoch 17/25\n",
      "250/250 [==============================] - 42s 169ms/step - loss: 0.3321 - accuracy: 0.8531 - val_loss: 0.4722 - val_accuracy: 0.7965\n",
      "Epoch 18/25\n",
      "250/250 [==============================] - 42s 168ms/step - loss: 0.3195 - accuracy: 0.8622 - val_loss: 0.4745 - val_accuracy: 0.8010\n",
      "Epoch 19/25\n",
      "250/250 [==============================] - 41s 164ms/step - loss: 0.3018 - accuracy: 0.8719 - val_loss: 0.5067 - val_accuracy: 0.7920\n",
      "Epoch 20/25\n",
      "250/250 [==============================] - 41s 163ms/step - loss: 0.2901 - accuracy: 0.8744 - val_loss: 0.4754 - val_accuracy: 0.7990\n",
      "Epoch 21/25\n",
      "250/250 [==============================] - 41s 165ms/step - loss: 0.2737 - accuracy: 0.8834 - val_loss: 0.5011 - val_accuracy: 0.8015\n",
      "Epoch 22/25\n",
      "250/250 [==============================] - 41s 166ms/step - loss: 0.2656 - accuracy: 0.8890 - val_loss: 0.5017 - val_accuracy: 0.8065\n",
      "Epoch 23/25\n",
      "250/250 [==============================] - 42s 168ms/step - loss: 0.2399 - accuracy: 0.9018 - val_loss: 0.5296 - val_accuracy: 0.8030\n",
      "Epoch 24/25\n",
      "250/250 [==============================] - 44s 175ms/step - loss: 0.2399 - accuracy: 0.8996 - val_loss: 0.5133 - val_accuracy: 0.8030\n",
      "Epoch 25/25\n",
      "250/250 [==============================] - 42s 167ms/step - loss: 0.2245 - accuracy: 0.9128 - val_loss: 0.5210 - val_accuracy: 0.8065\n"
     ]
    },
    {
     "data": {
      "text/plain": [
       "<tensorflow.python.keras.callbacks.History at 0x2531256c808>"
      ]
     },
     "execution_count": 13,
     "metadata": {},
     "output_type": "execute_result"
    }
   ],
   "source": [
    "cnn.fit(x=training_set,validation_data = test_set, epochs= 25)"
   ]
  },
  {
   "cell_type": "markdown",
   "metadata": {
    "colab_type": "text",
    "id": "bSHzUDKxrK66"
   },
   "source": [
    "# Single Prediction"
   ]
  },
  {
   "cell_type": "code",
   "execution_count": 15,
   "metadata": {
    "colab": {
     "base_uri": "https://localhost:8080/",
     "height": 34
    },
    "colab_type": "code",
    "id": "BIuOrDkTrPOk",
    "outputId": "e4f253a1-e7c2-4139-ad78-c80eeefd8cad"
   },
   "outputs": [
    {
     "name": "stdout",
     "output_type": "stream",
     "text": [
      "DOG\n"
     ]
    }
   ],
   "source": [
    "import numpy as np\n",
    "from keras.preprocessing import image\n",
    "test_image = image.load_img('dataset/single_prediction/cat_or_dog_1.jpg', target_size = [64,64])\n",
    "test_image = image.img_to_array(test_image)\n",
    "test_image = np.expand_dims(test_image, axis = 0)\n",
    "result = cnn.predict(test_image)\n",
    "training_set.class_indices\n",
    "if result[0][0] == 0:\n",
    "  print(\"CAT\")\n",
    "else :\n",
    "  print(\"DOG\")\n"
   ]
  },
  {
   "cell_type": "code",
   "execution_count": 45,
   "metadata": {},
   "outputs": [
    {
     "name": "stdout",
     "output_type": "stream",
     "text": [
      "Saving model to: 20200813-104609-catvsdog-model-Adam.h5...\n"
     ]
    },
    {
     "data": {
      "text/plain": [
       "'20200813-104609-catvsdog-model-Adam.h5'"
      ]
     },
     "execution_count": 45,
     "metadata": {},
     "output_type": "execute_result"
    }
   ],
   "source": [
    "import os,datetime\n",
    "def save_model(model, suffix=None):\n",
    "  \"\"\"\n",
    "  Saves a given model in a models directory and appends a suffix (str)\n",
    "  for clarity and reuse.\n",
    "  \"\"\"\n",
    "  # Create model directory with current time\n",
    "  modeldir = os.path.join(\"\",\n",
    "                         datetime.datetime.now().strftime(\"%Y%m%d-%H%M%S\"))\n",
    "  model_path = modeldir + \"-\" + suffix + \".h5\" # save format of model\n",
    "  print(f\"Saving model to: {model_path}...\")\n",
    "  model.save(model_path)\n",
    "  return model_path\n",
    "# Save model to file\n",
    "save_model(cnn, suffix=\"catvsdog-model-Adam\")\n"
   ]
  },
  {
   "cell_type": "code",
   "execution_count": 46,
   "metadata": {
    "colab": {
     "base_uri": "https://localhost:8080/",
     "height": 34
    },
    "colab_type": "code",
    "id": "4PBfsW23Zr9Z",
    "outputId": "2afd8ae3-aa3e-4c7b-f564-375f347bbfa4"
   },
   "outputs": [
    {
     "name": "stdout",
     "output_type": "stream",
     "text": [
      "Loading saved model from: 20200813-104609-catvsdog-model-Adam.h5\n"
     ]
    }
   ],
   "source": [
    "# Load in the full model\n",
    "def load_model(model_path):\n",
    "  \"\"\"\n",
    "  Loads a saved model from a specified path.\n",
    "  \"\"\"\n",
    "  print(f\"Loading saved model from: {model_path}\")\n",
    "  model = tf.keras.models.load_model(model_path)\n",
    "  return model\n",
    "model = load_model('20200813-104609-catvsdog-model-Adam.h5')"
   ]
  },
  {
   "cell_type": "code",
   "execution_count": 48,
   "metadata": {
    "colab": {
     "base_uri": "https://localhost:8080/",
     "height": 34
    },
    "colab_type": "code",
    "id": "KDrtxynKZ5ic",
    "outputId": "1ce904a7-478d-4db1-c08e-3b637c1b2d0e"
   },
   "outputs": [
    {
     "name": "stdout",
     "output_type": "stream",
     "text": [
      "DOG\n"
     ]
    }
   ],
   "source": [
    "import numpy as np\n",
    "from keras.preprocessing import image\n",
    "test_image = image.load_img('dataset/test_set/dogs/dog.4057.jpg', target_size = [64,64])\n",
    "test_image = image.img_to_array(test_image)\n",
    "test_image = np.expand_dims(test_image, axis = 0)\n",
    "result = model.predict(test_image)\n",
    "#training_set.class_indices\n",
    "if result[0][0] == 0:\n",
    "  print(\"CAT\")\n",
    "else :\n",
    "  print(\"DOG\")\n"
   ]
  },
  {
   "cell_type": "code",
   "execution_count": null,
   "metadata": {},
   "outputs": [],
   "source": []
  }
 ],
 "metadata": {
  "accelerator": "GPU",
  "colab": {
   "collapsed_sections": [],
   "name": "CatvsDog.ipynb",
   "provenance": [],
   "toc_visible": true
  },
  "kernelspec": {
   "display_name": "Python 3",
   "language": "python",
   "name": "python3"
  },
  "language_info": {
   "codemirror_mode": {
    "name": "ipython",
    "version": 3
   },
   "file_extension": ".py",
   "mimetype": "text/x-python",
   "name": "python",
   "nbconvert_exporter": "python",
   "pygments_lexer": "ipython3",
   "version": "3.7.7"
  }
 },
 "nbformat": 4,
 "nbformat_minor": 1
}
